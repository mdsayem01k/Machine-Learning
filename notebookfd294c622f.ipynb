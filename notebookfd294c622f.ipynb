{
 "cells": [
  {
   "cell_type": "code",
   "execution_count": 1,
   "id": "a6ec69b2",
   "metadata": {
    "_cell_guid": "b1076dfc-b9ad-4769-8c92-a6c4dae69d19",
    "_uuid": "8f2839f25d086af736a60e9eeb907d3b93b6e0e5",
    "execution": {
     "iopub.execute_input": "2024-02-06T17:42:13.438470Z",
     "iopub.status.busy": "2024-02-06T17:42:13.437981Z",
     "iopub.status.idle": "2024-02-06T17:42:17.562493Z",
     "shell.execute_reply": "2024-02-06T17:42:17.560579Z"
    },
    "papermill": {
     "duration": 4.137117,
     "end_time": "2024-02-06T17:42:17.565234",
     "exception": false,
     "start_time": "2024-02-06T17:42:13.428117",
     "status": "completed"
    },
    "tags": []
   },
   "outputs": [
    {
     "name": "stdout",
     "output_type": "stream",
     "text": [
      "/kaggle/input/playground-series-s4e2/sample_submission.csv\n",
      "/kaggle/input/playground-series-s4e2/train.csv\n",
      "/kaggle/input/playground-series-s4e2/test.csv\n"
     ]
    }
   ],
   "source": [
    "# This Python 3 environment comes with many helpful analytics libraries installed\n",
    "# It is defined by the kaggle/python Docker image: https://github.com/kaggle/docker-python\n",
    "# For example, here's several helpful packages to load\n",
    "import warnings \n",
    "warnings.filterwarnings('ignore')\n",
    "import numpy as np # linear algebra\n",
    "import pandas as pd # data processing, CSV file I/O (e.g. pd.read_csv)\n",
    "import lightgbm as lgb\n",
    "from sklearn.model_selection import train_test_split, GridSearchCV\n",
    "from sklearn.metrics import accuracy_score\n",
    "from sklearn.model_selection import train_test_split, GridSearchCV, StratifiedKFold\n",
    "\n",
    "\n",
    "# Input data files are available in the read-only \"../input/\" directory\n",
    "# For example, running this (by clicking run or pressing Shift+Enter) will list all files under the input directory\n",
    "\n",
    "import os\n",
    "for dirname, _, filenames in os.walk('/kaggle/input'):\n",
    "    for filename in filenames:\n",
    "        print(os.path.join(dirname, filename))\n",
    "\n",
    "# You can write up to 20GB to the current directory (/kaggle/working/) that gets preserved as output when you create a version using \"Save & Run All\" \n",
    "# You can also write temporary files to /kaggle/temp/, but they won't be saved outside of the current session"
   ]
  },
  {
   "cell_type": "code",
   "execution_count": 2,
   "id": "32f29a59",
   "metadata": {
    "execution": {
     "iopub.execute_input": "2024-02-06T17:42:17.583148Z",
     "iopub.status.busy": "2024-02-06T17:42:17.582400Z",
     "iopub.status.idle": "2024-02-06T17:42:17.596689Z",
     "shell.execute_reply": "2024-02-06T17:42:17.595254Z"
    },
    "papermill": {
     "duration": 0.027468,
     "end_time": "2024-02-06T17:42:17.600269",
     "exception": false,
     "start_time": "2024-02-06T17:42:17.572801",
     "status": "completed"
    },
    "tags": []
   },
   "outputs": [],
   "source": [
    "def wrangle(filepath):\n",
    "    # read csv file\n",
    "    df = pd.read_csv(filepath)\n",
    "    # Encoding ordinal category value\n",
    "    obesity_order = {\n",
    "        'Insufficient_Weight': 0,\n",
    "        'Normal_Weight': 1,\n",
    "        'Overweight_Level_I': 2,\n",
    "        'Overweight_Level_II': 3,\n",
    "        'Obesity_Type_I': 4,\n",
    "        'Obesity_Type_II': 5,\n",
    "        'Obesity_Type_III': 6\n",
    "    }\n",
    "    # Consumption of alcohol (CALC\n",
    "    calc_order={\n",
    "        'no':0,\n",
    "        'Sometimes':1,\n",
    "        'Frequently':2    \n",
    "    }\n",
    "\n",
    "    #  Calories consumption monitoring (SCC)\n",
    "    yes_no_order={'no':0,'yes':1}\n",
    "\n",
    "    # Consumption of food between meals (CAEC)\n",
    "    caec_order={\n",
    "        'no':0,\n",
    "        'Sometimes':1,\n",
    "        'Frequently':2,\n",
    "        'Always':3\n",
    "    }\n",
    "\n",
    "    transpot_order={\n",
    "        'Walking':0,\n",
    "        'Bike':1,\n",
    "        'Motorbike':2,\n",
    "        'Public_Transportation':3,\n",
    "        'Automobile':4\n",
    "\n",
    "    }\n",
    "    \n",
    "    gender_order={'Female':1,'Male':0}\n",
    "    \n",
    "    df['Gender']=df['Gender'].replace(gender_order)\n",
    "    df['NObeyesdad']=df['NObeyesdad'].replace(obesity_order)\n",
    "    df['CALC']=df['CALC'].replace(calc_order)\n",
    "    df['SCC']=df['SCC'].replace(yes_no_order)\n",
    "    df['SMOKE']=df['SMOKE'].replace(yes_no_order)\n",
    "    df['family_history_with_overweight']=df['family_history_with_overweight'].replace(yes_no_order)\n",
    "    df['FAVC']=df['FAVC'].replace(yes_no_order)\n",
    "    df['CAEC']=df['CAEC'].replace(caec_order)\n",
    "    df['MTRANS']=df['MTRANS'].replace(transpot_order)\n",
    "    \n",
    "    return df"
   ]
  },
  {
   "cell_type": "code",
   "execution_count": 3,
   "id": "abecbf0d",
   "metadata": {
    "execution": {
     "iopub.execute_input": "2024-02-06T17:42:17.618227Z",
     "iopub.status.busy": "2024-02-06T17:42:17.617299Z",
     "iopub.status.idle": "2024-02-06T17:42:17.959309Z",
     "shell.execute_reply": "2024-02-06T17:42:17.958118Z"
    },
    "papermill": {
     "duration": 0.354177,
     "end_time": "2024-02-06T17:42:17.962061",
     "exception": false,
     "start_time": "2024-02-06T17:42:17.607884",
     "status": "completed"
    },
    "tags": []
   },
   "outputs": [
    {
     "data": {
      "text/html": [
       "<div>\n",
       "<style scoped>\n",
       "    .dataframe tbody tr th:only-of-type {\n",
       "        vertical-align: middle;\n",
       "    }\n",
       "\n",
       "    .dataframe tbody tr th {\n",
       "        vertical-align: top;\n",
       "    }\n",
       "\n",
       "    .dataframe thead th {\n",
       "        text-align: right;\n",
       "    }\n",
       "</style>\n",
       "<table border=\"1\" class=\"dataframe\">\n",
       "  <thead>\n",
       "    <tr style=\"text-align: right;\">\n",
       "      <th></th>\n",
       "      <th>id</th>\n",
       "      <th>Gender</th>\n",
       "      <th>Age</th>\n",
       "      <th>Height</th>\n",
       "      <th>Weight</th>\n",
       "      <th>family_history_with_overweight</th>\n",
       "      <th>FAVC</th>\n",
       "      <th>FCVC</th>\n",
       "      <th>NCP</th>\n",
       "      <th>CAEC</th>\n",
       "      <th>SMOKE</th>\n",
       "      <th>CH2O</th>\n",
       "      <th>SCC</th>\n",
       "      <th>FAF</th>\n",
       "      <th>TUE</th>\n",
       "      <th>CALC</th>\n",
       "      <th>MTRANS</th>\n",
       "      <th>NObeyesdad</th>\n",
       "    </tr>\n",
       "  </thead>\n",
       "  <tbody>\n",
       "    <tr>\n",
       "      <th>0</th>\n",
       "      <td>0</td>\n",
       "      <td>0</td>\n",
       "      <td>24.443011</td>\n",
       "      <td>1.699998</td>\n",
       "      <td>81.669950</td>\n",
       "      <td>1</td>\n",
       "      <td>1</td>\n",
       "      <td>2.000000</td>\n",
       "      <td>2.983297</td>\n",
       "      <td>1</td>\n",
       "      <td>0</td>\n",
       "      <td>2.763573</td>\n",
       "      <td>0</td>\n",
       "      <td>0.000000</td>\n",
       "      <td>0.976473</td>\n",
       "      <td>1</td>\n",
       "      <td>3</td>\n",
       "      <td>3</td>\n",
       "    </tr>\n",
       "    <tr>\n",
       "      <th>1</th>\n",
       "      <td>1</td>\n",
       "      <td>1</td>\n",
       "      <td>18.000000</td>\n",
       "      <td>1.560000</td>\n",
       "      <td>57.000000</td>\n",
       "      <td>1</td>\n",
       "      <td>1</td>\n",
       "      <td>2.000000</td>\n",
       "      <td>3.000000</td>\n",
       "      <td>2</td>\n",
       "      <td>0</td>\n",
       "      <td>2.000000</td>\n",
       "      <td>0</td>\n",
       "      <td>1.000000</td>\n",
       "      <td>1.000000</td>\n",
       "      <td>0</td>\n",
       "      <td>4</td>\n",
       "      <td>1</td>\n",
       "    </tr>\n",
       "    <tr>\n",
       "      <th>2</th>\n",
       "      <td>2</td>\n",
       "      <td>1</td>\n",
       "      <td>18.000000</td>\n",
       "      <td>1.711460</td>\n",
       "      <td>50.165754</td>\n",
       "      <td>1</td>\n",
       "      <td>1</td>\n",
       "      <td>1.880534</td>\n",
       "      <td>1.411685</td>\n",
       "      <td>1</td>\n",
       "      <td>0</td>\n",
       "      <td>1.910378</td>\n",
       "      <td>0</td>\n",
       "      <td>0.866045</td>\n",
       "      <td>1.673584</td>\n",
       "      <td>0</td>\n",
       "      <td>3</td>\n",
       "      <td>0</td>\n",
       "    </tr>\n",
       "    <tr>\n",
       "      <th>3</th>\n",
       "      <td>3</td>\n",
       "      <td>1</td>\n",
       "      <td>20.952737</td>\n",
       "      <td>1.710730</td>\n",
       "      <td>131.274851</td>\n",
       "      <td>1</td>\n",
       "      <td>1</td>\n",
       "      <td>3.000000</td>\n",
       "      <td>3.000000</td>\n",
       "      <td>1</td>\n",
       "      <td>0</td>\n",
       "      <td>1.674061</td>\n",
       "      <td>0</td>\n",
       "      <td>1.467863</td>\n",
       "      <td>0.780199</td>\n",
       "      <td>1</td>\n",
       "      <td>3</td>\n",
       "      <td>6</td>\n",
       "    </tr>\n",
       "    <tr>\n",
       "      <th>4</th>\n",
       "      <td>4</td>\n",
       "      <td>0</td>\n",
       "      <td>31.641081</td>\n",
       "      <td>1.914186</td>\n",
       "      <td>93.798055</td>\n",
       "      <td>1</td>\n",
       "      <td>1</td>\n",
       "      <td>2.679664</td>\n",
       "      <td>1.971472</td>\n",
       "      <td>1</td>\n",
       "      <td>0</td>\n",
       "      <td>1.979848</td>\n",
       "      <td>0</td>\n",
       "      <td>1.967973</td>\n",
       "      <td>0.931721</td>\n",
       "      <td>1</td>\n",
       "      <td>3</td>\n",
       "      <td>3</td>\n",
       "    </tr>\n",
       "  </tbody>\n",
       "</table>\n",
       "</div>"
      ],
      "text/plain": [
       "   id  Gender        Age    Height      Weight  \\\n",
       "0   0       0  24.443011  1.699998   81.669950   \n",
       "1   1       1  18.000000  1.560000   57.000000   \n",
       "2   2       1  18.000000  1.711460   50.165754   \n",
       "3   3       1  20.952737  1.710730  131.274851   \n",
       "4   4       0  31.641081  1.914186   93.798055   \n",
       "\n",
       "   family_history_with_overweight  FAVC      FCVC       NCP  CAEC  SMOKE  \\\n",
       "0                               1     1  2.000000  2.983297     1      0   \n",
       "1                               1     1  2.000000  3.000000     2      0   \n",
       "2                               1     1  1.880534  1.411685     1      0   \n",
       "3                               1     1  3.000000  3.000000     1      0   \n",
       "4                               1     1  2.679664  1.971472     1      0   \n",
       "\n",
       "       CH2O  SCC       FAF       TUE  CALC  MTRANS  NObeyesdad  \n",
       "0  2.763573    0  0.000000  0.976473     1       3           3  \n",
       "1  2.000000    0  1.000000  1.000000     0       4           1  \n",
       "2  1.910378    0  0.866045  1.673584     0       3           0  \n",
       "3  1.674061    0  1.467863  0.780199     1       3           6  \n",
       "4  1.979848    0  1.967973  0.931721     1       3           3  "
      ]
     },
     "execution_count": 3,
     "metadata": {},
     "output_type": "execute_result"
    }
   ],
   "source": [
    "# read csv file via wrangle function\n",
    "df=wrangle(\"/kaggle/input/playground-series-s4e2/train.csv\")\n",
    "df.head()"
   ]
  },
  {
   "cell_type": "code",
   "execution_count": 4,
   "id": "7aab2b58",
   "metadata": {
    "execution": {
     "iopub.execute_input": "2024-02-06T17:42:17.979198Z",
     "iopub.status.busy": "2024-02-06T17:42:17.978159Z",
     "iopub.status.idle": "2024-02-06T17:42:17.995645Z",
     "shell.execute_reply": "2024-02-06T17:42:17.994501Z"
    },
    "papermill": {
     "duration": 0.028871,
     "end_time": "2024-02-06T17:42:17.998251",
     "exception": false,
     "start_time": "2024-02-06T17:42:17.969380",
     "status": "completed"
    },
    "tags": []
   },
   "outputs": [],
   "source": [
    "target_column = 'NObeyesdad'\n",
    "X = df.drop(['id','NObeyesdad'], axis=1)\n",
    "y = df[target_column]"
   ]
  },
  {
   "cell_type": "code",
   "execution_count": 5,
   "id": "711aada0",
   "metadata": {
    "execution": {
     "iopub.execute_input": "2024-02-06T17:42:18.015832Z",
     "iopub.status.busy": "2024-02-06T17:42:18.015071Z",
     "iopub.status.idle": "2024-02-06T17:42:18.021680Z",
     "shell.execute_reply": "2024-02-06T17:42:18.020348Z"
    },
    "papermill": {
     "duration": 0.018788,
     "end_time": "2024-02-06T17:42:18.024558",
     "exception": false,
     "start_time": "2024-02-06T17:42:18.005770",
     "status": "completed"
    },
    "tags": []
   },
   "outputs": [],
   "source": [
    "kf = StratifiedKFold(n_splits=5, shuffle=True, random_state=42)\n"
   ]
  },
  {
   "cell_type": "code",
   "execution_count": 6,
   "id": "7ae453e2",
   "metadata": {
    "execution": {
     "iopub.execute_input": "2024-02-06T17:42:18.041353Z",
     "iopub.status.busy": "2024-02-06T17:42:18.040868Z",
     "iopub.status.idle": "2024-02-06T17:42:18.046443Z",
     "shell.execute_reply": "2024-02-06T17:42:18.045228Z"
    },
    "papermill": {
     "duration": 0.016769,
     "end_time": "2024-02-06T17:42:18.048599",
     "exception": false,
     "start_time": "2024-02-06T17:42:18.031830",
     "status": "completed"
    },
    "tags": []
   },
   "outputs": [],
   "source": [
    "categorical_features = ['Gender','CALC','SCC','SMOKE','family_history_with_overweight','FAVC','CAEC','MTRANS']\n"
   ]
  },
  {
   "cell_type": "code",
   "execution_count": 7,
   "id": "eeaf19d9",
   "metadata": {
    "execution": {
     "iopub.execute_input": "2024-02-06T17:42:18.065959Z",
     "iopub.status.busy": "2024-02-06T17:42:18.064713Z",
     "iopub.status.idle": "2024-02-06T17:42:18.071310Z",
     "shell.execute_reply": "2024-02-06T17:42:18.069973Z"
    },
    "papermill": {
     "duration": 0.018134,
     "end_time": "2024-02-06T17:42:18.073978",
     "exception": false,
     "start_time": "2024-02-06T17:42:18.055844",
     "status": "completed"
    },
    "tags": []
   },
   "outputs": [],
   "source": [
    "params = {\n",
    "    'objective': 'multiclass',\n",
    "    'num_class': 7,\n",
    "    'boosting_type': 'gbdt',\n",
    "    'num_leaves': 31,\n",
    "    'learning_rate': 0.1,\n",
    "    'feature_fraction': 0.9\n",
    "}\n",
    "\n"
   ]
  },
  {
   "cell_type": "code",
   "execution_count": 8,
   "id": "e3f5349e",
   "metadata": {
    "execution": {
     "iopub.execute_input": "2024-02-06T17:42:18.090385Z",
     "iopub.status.busy": "2024-02-06T17:42:18.089951Z",
     "iopub.status.idle": "2024-02-06T17:42:56.794090Z",
     "shell.execute_reply": "2024-02-06T17:42:56.792565Z"
    },
    "papermill": {
     "duration": 38.716095,
     "end_time": "2024-02-06T17:42:56.797230",
     "exception": false,
     "start_time": "2024-02-06T17:42:18.081135",
     "status": "completed"
    },
    "tags": []
   },
   "outputs": [
    {
     "name": "stdout",
     "output_type": "stream",
     "text": [
      "[LightGBM] [Info] Auto-choosing row-wise multi-threading, the overhead of testing was 0.006394 seconds.\n",
      "You can set `force_row_wise=true` to remove the overhead.\n",
      "And if memory is not enough, you can set `force_col_wise=true`.\n",
      "[LightGBM] [Info] Total Bins 2050\n",
      "[LightGBM] [Info] Number of data points in the train set: 16606, number of used features: 16\n",
      "[LightGBM] [Info] Start training from score -2.107657\n",
      "[LightGBM] [Info] Start training from score -1.907167\n",
      "[LightGBM] [Info] Start training from score -2.146046\n",
      "[LightGBM] [Info] Start training from score -2.108153\n",
      "[LightGBM] [Info] Start training from score -1.964755\n",
      "[LightGBM] [Info] Start training from score -1.855022\n",
      "[LightGBM] [Info] Start training from score -1.635117\n",
      "[LightGBM] [Info] Auto-choosing row-wise multi-threading, the overhead of testing was 0.003741 seconds.\n",
      "You can set `force_row_wise=true` to remove the overhead.\n",
      "And if memory is not enough, you can set `force_col_wise=true`.\n",
      "[LightGBM] [Info] Total Bins 2057\n",
      "[LightGBM] [Info] Number of data points in the train set: 16606, number of used features: 16\n",
      "[LightGBM] [Info] Start training from score -2.107657\n",
      "[LightGBM] [Info] Start training from score -1.907167\n",
      "[LightGBM] [Info] Start training from score -2.146561\n",
      "[LightGBM] [Info] Start training from score -2.108153\n",
      "[LightGBM] [Info] Start training from score -1.964755\n",
      "[LightGBM] [Info] Start training from score -1.854637\n",
      "[LightGBM] [Info] Start training from score -1.635117\n",
      "[LightGBM] [Info] Auto-choosing col-wise multi-threading, the overhead of testing was 0.004037 seconds.\n",
      "You can set `force_col_wise=true` to remove the overhead.\n",
      "[LightGBM] [Info] Total Bins 2052\n",
      "[LightGBM] [Info] Number of data points in the train set: 16606, number of used features: 16\n",
      "[LightGBM] [Info] Start training from score -2.107162\n",
      "[LightGBM] [Info] Start training from score -1.907572\n",
      "[LightGBM] [Info] Start training from score -2.146561\n",
      "[LightGBM] [Info] Start training from score -2.107657\n",
      "[LightGBM] [Info] Start training from score -1.964755\n",
      "[LightGBM] [Info] Start training from score -1.854637\n",
      "[LightGBM] [Info] Start training from score -1.635426\n",
      "[LightGBM] [Info] Auto-choosing row-wise multi-threading, the overhead of testing was 0.003004 seconds.\n",
      "You can set `force_row_wise=true` to remove the overhead.\n",
      "And if memory is not enough, you can set `force_col_wise=true`.\n",
      "[LightGBM] [Info] Total Bins 2049\n",
      "[LightGBM] [Info] Number of data points in the train set: 16607, number of used features: 16\n",
      "[LightGBM] [Info] Start training from score -2.107222\n",
      "[LightGBM] [Info] Start training from score -1.907632\n",
      "[LightGBM] [Info] Start training from score -2.146106\n",
      "[LightGBM] [Info] Start training from score -2.107717\n",
      "[LightGBM] [Info] Start training from score -1.964815\n",
      "[LightGBM] [Info] Start training from score -1.855082\n",
      "[LightGBM] [Info] Start training from score -1.635177\n",
      "[LightGBM] [Info] Auto-choosing col-wise multi-threading, the overhead of testing was 0.019839 seconds.\n",
      "You can set `force_col_wise=true` to remove the overhead.\n",
      "[LightGBM] [Info] Total Bins 2054\n",
      "[LightGBM] [Info] Number of data points in the train set: 16607, number of used features: 16\n",
      "[LightGBM] [Info] Start training from score -2.107717\n",
      "[LightGBM] [Info] Start training from score -1.907227\n",
      "[LightGBM] [Info] Start training from score -2.146106\n",
      "[LightGBM] [Info] Start training from score -2.107717\n",
      "[LightGBM] [Info] Start training from score -1.964815\n",
      "[LightGBM] [Info] Start training from score -1.855082\n",
      "[LightGBM] [Info] Start training from score -1.635177\n"
     ]
    }
   ],
   "source": [
    "# Initialize variables to track the best model\n",
    "best_model = None\n",
    "best_accuracy = 0.0\n",
    "\n",
    "# Perform k-fold cross-validation\n",
    "for train_index, val_index in kf.split(X, y):\n",
    "    X_train, X_val = X.iloc[train_index], X.iloc[val_index]\n",
    "    y_train, y_val = y.iloc[train_index], y.iloc[val_index]\n",
    "\n",
    "    # Create LightGBM datasets for training and validation\n",
    "    train_data = lgb.Dataset(X_train, label=y_train, categorical_feature=categorical_features)\n",
    "    val_data = lgb.Dataset(X_val, label=y_val, categorical_feature=categorical_features)\n",
    "\n",
    "    # Train the LightGBM model\n",
    "    lgb_model = lgb.train(params, train_data, num_boost_round=100, valid_sets=[train_data, val_data])\n",
    "\n",
    "    # Make predictions on the validation set\n",
    "    y_pred_prob = lgb_model.predict(X_val)\n",
    "    y_pred = [list(x).index(max(x)) for x in y_pred_prob]\n",
    "\n",
    "    # Evaluate the model on the validation set\n",
    "    accuracy = accuracy_score(y_val, y_pred)\n",
    "\n",
    "    # Update best model if the current model is better\n",
    "    if accuracy > best_accuracy:\n",
    "        best_model = lgb_model\n",
    "        best_accuracy = accuracy"
   ]
  },
  {
   "cell_type": "code",
   "execution_count": 9,
   "id": "1c220a74",
   "metadata": {
    "execution": {
     "iopub.execute_input": "2024-02-06T17:42:56.815280Z",
     "iopub.status.busy": "2024-02-06T17:42:56.814777Z",
     "iopub.status.idle": "2024-02-06T17:42:56.823153Z",
     "shell.execute_reply": "2024-02-06T17:42:56.821663Z"
    },
    "papermill": {
     "duration": 0.020662,
     "end_time": "2024-02-06T17:42:56.825809",
     "exception": false,
     "start_time": "2024-02-06T17:42:56.805147",
     "status": "completed"
    },
    "tags": []
   },
   "outputs": [
    {
     "data": {
      "text/plain": [
       "0.910645472061657"
      ]
     },
     "execution_count": 9,
     "metadata": {},
     "output_type": "execute_result"
    }
   ],
   "source": [
    "best_accuracy"
   ]
  },
  {
   "cell_type": "code",
   "execution_count": 10,
   "id": "1b1ff32b",
   "metadata": {
    "execution": {
     "iopub.execute_input": "2024-02-06T17:42:56.844313Z",
     "iopub.status.busy": "2024-02-06T17:42:56.843817Z",
     "iopub.status.idle": "2024-02-06T17:42:56.858294Z",
     "shell.execute_reply": "2024-02-06T17:42:56.856707Z"
    },
    "papermill": {
     "duration": 0.027642,
     "end_time": "2024-02-06T17:42:56.861580",
     "exception": false,
     "start_time": "2024-02-06T17:42:56.833938",
     "status": "completed"
    },
    "tags": []
   },
   "outputs": [],
   "source": [
    "def wrangle(filepath):\n",
    "    df = pd.read_csv(filepath)\n",
    "    \n",
    "    obesity_order = {\n",
    "        'Insufficient_Weight': 0,\n",
    "        'Normal_Weight': 1,\n",
    "        'Overweight_Level_I': 2,\n",
    "        'Overweight_Level_II': 3,\n",
    "        'Obesity_Type_I': 4,\n",
    "        'Obesity_Type_II': 5,\n",
    "        'Obesity_Type_III': 6\n",
    "    }\n",
    "    # Consumption of alcohol (CALC\n",
    "    calc_order={\n",
    "        'no':0,\n",
    "        'Sometimes':1,\n",
    "        'Frequently':2,\n",
    "        'Always':3\n",
    "    }\n",
    "\n",
    "    #  Calories consumption monitoring (SCC)\n",
    "    yes_no_order={'no':0,'yes':1}\n",
    "\n",
    "    # Consumption of food between meals (CAEC)\n",
    "    caec_order={\n",
    "        'no':0,\n",
    "        'Sometimes':1,\n",
    "        'Frequently':2,\n",
    "        'Always':3\n",
    "    }\n",
    "\n",
    "    transpot_order={\n",
    "        'Walking':0,\n",
    "        'Bike':1,\n",
    "        'Motorbike':2,\n",
    "        'Public_Transportation':3,\n",
    "        'Automobile':4\n",
    "\n",
    "    }\n",
    "    \n",
    "    gender_order={'Female':1,'Male':0}\n",
    "    \n",
    "    #drop id\n",
    "    df=df.drop(['id'], axis=1)\n",
    "    \n",
    "    df['Gender']=df['Gender'].replace(gender_order)\n",
    "    df['CALC']=df['CALC'].replace(calc_order)\n",
    "    df['SCC']=df['SCC'].replace(yes_no_order)\n",
    "    df['SMOKE']=df['SMOKE'].replace(yes_no_order)\n",
    "    df['family_history_with_overweight']=df['family_history_with_overweight'].replace(yes_no_order)\n",
    "    df['FAVC']=df['FAVC'].replace(yes_no_order)\n",
    "    df['CAEC']=df['CAEC'].replace(caec_order)\n",
    "    df['MTRANS']=df['MTRANS'].replace(transpot_order)\n",
    "    \n",
    "    #predicton\n",
    "    y_pred_prob = best_model.predict(df)\n",
    "    y_test_pred = [list(x).index(max(x)) for x in y_pred_prob]\n",
    "    \n",
    "    \n",
    "    \n",
    "    return y_test_pred"
   ]
  },
  {
   "cell_type": "code",
   "execution_count": 11,
   "id": "e2ba31df",
   "metadata": {
    "execution": {
     "iopub.execute_input": "2024-02-06T17:42:56.880567Z",
     "iopub.status.busy": "2024-02-06T17:42:56.879735Z",
     "iopub.status.idle": "2024-02-06T17:42:57.404834Z",
     "shell.execute_reply": "2024-02-06T17:42:57.403273Z"
    },
    "papermill": {
     "duration": 0.538352,
     "end_time": "2024-02-06T17:42:57.407973",
     "exception": false,
     "start_time": "2024-02-06T17:42:56.869621",
     "status": "completed"
    },
    "tags": []
   },
   "outputs": [],
   "source": [
    "prediction=wrangle(\"/kaggle/input/playground-series-s4e2/test.csv\")"
   ]
  },
  {
   "cell_type": "code",
   "execution_count": 12,
   "id": "7bfd4c8f",
   "metadata": {
    "execution": {
     "iopub.execute_input": "2024-02-06T17:42:57.427714Z",
     "iopub.status.busy": "2024-02-06T17:42:57.427295Z",
     "iopub.status.idle": "2024-02-06T17:42:57.434677Z",
     "shell.execute_reply": "2024-02-06T17:42:57.433286Z"
    },
    "papermill": {
     "duration": 0.020558,
     "end_time": "2024-02-06T17:42:57.437551",
     "exception": false,
     "start_time": "2024-02-06T17:42:57.416993",
     "status": "completed"
    },
    "tags": []
   },
   "outputs": [
    {
     "data": {
      "text/plain": [
       "13840"
      ]
     },
     "execution_count": 12,
     "metadata": {},
     "output_type": "execute_result"
    }
   ],
   "source": [
    "len(prediction)"
   ]
  },
  {
   "cell_type": "code",
   "execution_count": 13,
   "id": "38c3d5f7",
   "metadata": {
    "execution": {
     "iopub.execute_input": "2024-02-06T17:42:57.456137Z",
     "iopub.status.busy": "2024-02-06T17:42:57.455726Z",
     "iopub.status.idle": "2024-02-06T17:42:57.509859Z",
     "shell.execute_reply": "2024-02-06T17:42:57.508452Z"
    },
    "papermill": {
     "duration": 0.067253,
     "end_time": "2024-02-06T17:42:57.512977",
     "exception": false,
     "start_time": "2024-02-06T17:42:57.445724",
     "status": "completed"
    },
    "tags": []
   },
   "outputs": [],
   "source": [
    "test_df=pd.read_csv(\"/kaggle/input/playground-series-s4e2/test.csv\")\n",
    "id=test_df['id']"
   ]
  },
  {
   "cell_type": "code",
   "execution_count": 14,
   "id": "672035a8",
   "metadata": {
    "execution": {
     "iopub.execute_input": "2024-02-06T17:42:57.532764Z",
     "iopub.status.busy": "2024-02-06T17:42:57.532314Z",
     "iopub.status.idle": "2024-02-06T17:42:57.545601Z",
     "shell.execute_reply": "2024-02-06T17:42:57.544270Z"
    },
    "papermill": {
     "duration": 0.026988,
     "end_time": "2024-02-06T17:42:57.548173",
     "exception": false,
     "start_time": "2024-02-06T17:42:57.521185",
     "status": "completed"
    },
    "tags": []
   },
   "outputs": [],
   "source": [
    "submission_df = pd.DataFrame({'id': id, 'NObeyesdad': prediction})"
   ]
  },
  {
   "cell_type": "code",
   "execution_count": 15,
   "id": "a1ee5a67",
   "metadata": {
    "execution": {
     "iopub.execute_input": "2024-02-06T17:42:57.566454Z",
     "iopub.status.busy": "2024-02-06T17:42:57.566041Z",
     "iopub.status.idle": "2024-02-06T17:42:57.576377Z",
     "shell.execute_reply": "2024-02-06T17:42:57.575020Z"
    },
    "papermill": {
     "duration": 0.02253,
     "end_time": "2024-02-06T17:42:57.578922",
     "exception": false,
     "start_time": "2024-02-06T17:42:57.556392",
     "status": "completed"
    },
    "tags": []
   },
   "outputs": [],
   "source": [
    "obesity_order = {\n",
    "    'Insufficient_Weight': 0,\n",
    "    'Normal_Weight': 1,\n",
    "    'Overweight_Level_I': 2,\n",
    "    'Overweight_Level_II': 3,\n",
    "    'Obesity_Type_I': 4,\n",
    "    'Obesity_Type_II': 5,\n",
    "    'Obesity_Type_III': 6\n",
    "}\n",
    "\n",
    "# convert numercial value into orginal ordinal value\n",
    "submission_df['NObeyesdad'] = submission_df['NObeyesdad'].map({v: k for k, v in obesity_order.items()})"
   ]
  },
  {
   "cell_type": "code",
   "execution_count": 16,
   "id": "3409b93f",
   "metadata": {
    "execution": {
     "iopub.execute_input": "2024-02-06T17:42:57.596930Z",
     "iopub.status.busy": "2024-02-06T17:42:57.596534Z",
     "iopub.status.idle": "2024-02-06T17:42:57.602416Z",
     "shell.execute_reply": "2024-02-06T17:42:57.601141Z"
    },
    "papermill": {
     "duration": 0.01774,
     "end_time": "2024-02-06T17:42:57.604687",
     "exception": false,
     "start_time": "2024-02-06T17:42:57.586947",
     "status": "completed"
    },
    "tags": []
   },
   "outputs": [],
   "source": [
    "submission_df.set_index('id', inplace=True)"
   ]
  },
  {
   "cell_type": "code",
   "execution_count": 17,
   "id": "c60f8911",
   "metadata": {
    "execution": {
     "iopub.execute_input": "2024-02-06T17:42:57.623073Z",
     "iopub.status.busy": "2024-02-06T17:42:57.622666Z",
     "iopub.status.idle": "2024-02-06T17:42:57.659314Z",
     "shell.execute_reply": "2024-02-06T17:42:57.657788Z"
    },
    "papermill": {
     "duration": 0.049551,
     "end_time": "2024-02-06T17:42:57.662559",
     "exception": false,
     "start_time": "2024-02-06T17:42:57.613008",
     "status": "completed"
    },
    "tags": []
   },
   "outputs": [],
   "source": [
    "submission_df.to_csv('/kaggle/working/my_submissionrrr8.csv')"
   ]
  },
  {
   "cell_type": "code",
   "execution_count": null,
   "id": "06e2de4d",
   "metadata": {
    "papermill": {
     "duration": 0.007771,
     "end_time": "2024-02-06T17:42:57.678498",
     "exception": false,
     "start_time": "2024-02-06T17:42:57.670727",
     "status": "completed"
    },
    "tags": []
   },
   "outputs": [],
   "source": []
  }
 ],
 "metadata": {
  "kaggle": {
   "accelerator": "none",
   "dataSources": [
    {
     "databundleVersionId": 7609535,
     "sourceId": 68479,
     "sourceType": "competition"
    }
   ],
   "dockerImageVersionId": 30646,
   "isGpuEnabled": false,
   "isInternetEnabled": true,
   "language": "python",
   "sourceType": "notebook"
  },
  "kernelspec": {
   "display_name": "Python 3",
   "language": "python",
   "name": "python3"
  },
  "language_info": {
   "codemirror_mode": {
    "name": "ipython",
    "version": 3
   },
   "file_extension": ".py",
   "mimetype": "text/x-python",
   "name": "python",
   "nbconvert_exporter": "python",
   "pygments_lexer": "ipython3",
   "version": "3.10.13"
  },
  "papermill": {
   "default_parameters": {},
   "duration": 48.347319,
   "end_time": "2024-02-06T17:42:58.511943",
   "environment_variables": {},
   "exception": null,
   "input_path": "__notebook__.ipynb",
   "output_path": "__notebook__.ipynb",
   "parameters": {},
   "start_time": "2024-02-06T17:42:10.164624",
   "version": "2.5.0"
  }
 },
 "nbformat": 4,
 "nbformat_minor": 5
}
